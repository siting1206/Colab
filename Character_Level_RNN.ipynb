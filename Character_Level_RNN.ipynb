{
  "cells": [
    {
      "cell_type": "markdown",
      "metadata": {
        "id": "view-in-github",
        "colab_type": "text"
      },
      "source": [
        "<a href=\"https://colab.research.google.com/github/siting1206/Colab/blob/main/Character_Level_RNN.ipynb\" target=\"_parent\"><img src=\"https://colab.research.google.com/assets/colab-badge.svg\" alt=\"Open In Colab\"/></a>"
      ]
    },
    {
      "cell_type": "markdown",
      "metadata": {
        "id": "ht3pMea7T6Wh"
      },
      "source": [
        "# Character-Level LSTM in PyTorch\n",
        "\n",
        "The network will train character by character on some text, then generate new text character by character. As an example, It will train on Anna Karenina. **This model will be able to generate new text based on the text from the book!**\n",
        "\n",
        "This network is based off of Andrej Karpathy's [post on RNNs](http://karpathy.github.io/2015/05/21/rnn-effectiveness/) and [implementation in Torch](https://github.com/karpathy/char-rnn). Below is the general architecture of the character-wise RNN.\n",
        "\n",
        "<img src=\"https://github.com/udacity/deep-learning-v2-pytorch/blob/master/recurrent-neural-networks/char-rnn/assets/charseq.jpeg?raw=1\" width=\"500\">"
      ]
    },
    {
      "cell_type": "markdown",
      "metadata": {
        "id": "OvtVDn7pT6Wj"
      },
      "source": [
        "First let's load in our required resources for data loading and model creation."
      ]
    },
    {
      "cell_type": "code",
      "execution_count": null,
      "metadata": {
        "collapsed": true,
        "id": "8d9CGypJT6Wk"
      },
      "outputs": [],
      "source": [
        "import numpy as np\n",
        "import torch\n",
        "from torch import nn\n",
        "import torch.nn.functional as F"
      ]
    },
    {
      "cell_type": "code",
      "source": [
        "# from google.colab import drive\n",
        "# drive.mount('/content/drive')"
      ],
      "metadata": {
        "id": "5nZ9_gpzWYQj"
      },
      "execution_count": null,
      "outputs": []
    },
    {
      "cell_type": "markdown",
      "metadata": {
        "id": "BKOe2rEVT6Wl"
      },
      "source": [
        "## Load in Data\n",
        "\n",
        "Then, we'll load the Anna Karenina text file and convert it into integers for our network to use. "
      ]
    },
    {
      "cell_type": "code",
      "execution_count": null,
      "metadata": {
        "collapsed": true,
        "id": "rj4v-2aWT6Wl"
      },
      "outputs": [],
      "source": [
        "# open text file and read in data as `text`\n",
        "with open('drive/MyDrive/anna.txt', 'r') as f:\n",
        "    text = f.read()"
      ]
    },
    {
      "cell_type": "markdown",
      "metadata": {
        "id": "Pakv3fmhT6Wm"
      },
      "source": [
        "Let's check out the first 100 characters, make sure everything is peachy. According to the [American Book Review](http://americanbookreview.org/100bestlines.asp), this is the 6th best first line of a book ever."
      ]
    },
    {
      "cell_type": "code",
      "execution_count": null,
      "metadata": {
        "collapsed": true,
        "id": "B2HJ-hswT6Wm",
        "outputId": "7d530a9a-06e5-445e-9ac9-61323949f95f",
        "colab": {
          "base_uri": "https://localhost:8080/",
          "height": 53
        }
      },
      "outputs": [
        {
          "output_type": "execute_result",
          "data": {
            "text/plain": [
              "'Chapter 1\\n\\n\\nHappy families are all alike; every unhappy family is unhappy in its own\\nway.\\n\\nEverythin'"
            ],
            "application/vnd.google.colaboratory.intrinsic+json": {
              "type": "string"
            }
          },
          "metadata": {},
          "execution_count": 44
        }
      ],
      "source": [
        "text[:100]"
      ]
    },
    {
      "cell_type": "markdown",
      "metadata": {
        "id": "yIQRQkGtT6Wn"
      },
      "source": [
        "### Tokenization\n",
        "\n",
        "In the cells, below, I'm creating a couple of **dictionaries** to convert the characters to and from integers. Encoding the characters as integers makes it easier to use as input in the network."
      ]
    },
    {
      "cell_type": "code",
      "execution_count": null,
      "metadata": {
        "collapsed": true,
        "id": "A9UHohcyT6Wo"
      },
      "outputs": [],
      "source": [
        "# encode the text and map each character to an integer and vice versa\n",
        "\n",
        "# we create two dictionaries:\n",
        "# 1. int2char, which maps integers to characters\n",
        "# 2. char2int, which maps characters to unique integers\n",
        "chars = tuple(set(text)) # set()將文字劃分為字符串並刪除重複項\n",
        "int2char = dict(enumerate(chars)) # enumerate()將每個唯一字符設定一個數字值\n",
        "char2int = {ch: ii for ii, ch in int2char.items()}\n",
        "\n",
        "# encode the text\n",
        "encoded = np.array([char2int[ch] for ch in text])"
      ]
    },
    {
      "cell_type": "markdown",
      "metadata": {
        "id": "_AaoelNMT6Wp"
      },
      "source": [
        "And we can see those same characters from above, encoded as integers."
      ]
    },
    {
      "cell_type": "code",
      "execution_count": null,
      "metadata": {
        "collapsed": true,
        "id": "uasuwQezT6Wp",
        "outputId": "92b75276-7411-413e-b9ea-a8ef2c91b0e8",
        "colab": {
          "base_uri": "https://localhost:8080/"
        }
      },
      "outputs": [
        {
          "output_type": "execute_result",
          "data": {
            "text/plain": [
              "array([50, 65, 42,  3, 63, 56, 64, 47, 34, 82, 82, 82, 18, 42,  3,  3, 20,\n",
              "       47, 79, 42, 13, 76, 35, 76, 56, 81, 47, 42, 64, 56, 47, 42, 35, 35,\n",
              "       47, 42, 35, 76, 49, 56, 10, 47, 56, 21, 56, 64, 20, 47, 45, 46, 65,\n",
              "       42,  3,  3, 20, 47, 79, 42, 13, 76, 35, 20, 47, 76, 81, 47, 45, 46,\n",
              "       65, 42,  3,  3, 20, 47, 76, 46, 47, 76, 63, 81, 47, 59, 17, 46, 82,\n",
              "       17, 42, 20, 68, 82, 82, 27, 21, 56, 64, 20, 63, 65, 76, 46])"
            ]
          },
          "metadata": {},
          "execution_count": 46
        }
      ],
      "source": [
        "encoded[:100]"
      ]
    },
    {
      "cell_type": "markdown",
      "metadata": {
        "id": "ZSVskU8fT6Wp"
      },
      "source": [
        "## Pre-processing the data\n",
        "\n",
        "As you can see in our char-RNN image above, our LSTM expects an input that is **one-hot encoded** meaning that each character is converted into an integer (via our created dictionary) and *then* converted into a column vector where only it's corresponding integer index will have the value of 1 and the rest of the vector will be filled with 0's. Since we're one-hot encoding the data, let's make a function to do that!\n"
      ]
    },
    {
      "cell_type": "code",
      "execution_count": null,
      "metadata": {
        "collapsed": true,
        "id": "XrDD8YdlT6Wq"
      },
      "outputs": [],
      "source": [
        "def one_hot_encode(arr, n_labels):\n",
        "    \n",
        "    # Initialize the encoded array\n",
        "    one_hot = np.zeros((arr.size, n_labels), dtype=np.float32)\n",
        "    \n",
        "    # Fill the appropriate elements with ones\n",
        "    one_hot[np.arange(one_hot.shape[0]), arr.flatten()] = 1.\n",
        "    \n",
        "    # Finally reshape it to get back to the original array\n",
        "    one_hot = one_hot.reshape((*arr.shape, n_labels))\n",
        "    \n",
        "    return one_hot"
      ]
    },
    {
      "cell_type": "markdown",
      "source": [],
      "metadata": {
        "id": "otNrLX4Hdjn8"
      }
    },
    {
      "cell_type": "code",
      "execution_count": null,
      "metadata": {
        "id": "XqCDrldAT6Wr",
        "outputId": "f6005306-2183-4dca-d149-93b3fbb22a75",
        "colab": {
          "base_uri": "https://localhost:8080/"
        }
      },
      "outputs": [
        {
          "output_type": "stream",
          "name": "stdout",
          "text": [
            "[[[0. 0. 0. 1. 0. 0. 0. 0.]\n",
            "  [0. 0. 0. 0. 0. 1. 0. 0.]\n",
            "  [0. 1. 0. 0. 0. 0. 0. 0.]]]\n"
          ]
        }
      ],
      "source": [
        "# check that the function works as expected\n",
        "test_seq = np.array([[3, 5, 1]])\n",
        "one_hot = one_hot_encode(test_seq, 8)\n",
        "\n",
        "print(one_hot)"
      ]
    },
    {
      "cell_type": "markdown",
      "metadata": {
        "id": "ugL2exjPT6Wr"
      },
      "source": [
        "## Making training mini-batches\n",
        "\n",
        "\n",
        "To train on this data, we also want to create mini-batches for training. Remember that we want our batches to be multiple sequences of some desired number of sequence steps. Considering a simple example, our batches would look like this:\n",
        "\n",
        "<img src=\"https://github.com/udacity/deep-learning-v2-pytorch/blob/master/recurrent-neural-networks/char-rnn/assets/sequence_batching@1x.png?raw=1\" width=500px>\n",
        "\n",
        "\n",
        "<br>\n",
        "\n",
        "In this example, we'll take the encoded characters (passed in as the `arr` parameter) and split them into multiple sequences, given by `batch_size`. Each of our sequences will be `seq_length` long.\n",
        "\n",
        "### Creating Batches\n",
        "\n",
        "**1. The first thing we need to do is discard some of the text so we only have completely full mini-batches. **\n",
        "\n",
        "Each batch contains $N \\times M$ characters, where $N$ is the batch size (the number of sequences in a batch) and $M$ is the seq_length or number of time steps in a sequence. Then, to get the total number of batches, $K$, that we can make from the array `arr`, you divide the length of `arr` by the number of characters per batch. Once you know the number of batches, you can get the total number of characters to keep from `arr`, $N * M * K$.\n",
        "\n",
        "**2. After that, we need to split `arr` into $N$ batches. ** \n",
        "\n",
        "You can do this using `arr.reshape(size)` where `size` is a tuple containing the dimensions sizes of the reshaped array. We know we want $N$ sequences in a batch, so let's make that the size of the first dimension. For the second dimension, you can use `-1` as a placeholder in the size, it'll fill up the array with the appropriate data for you. After this, you should have an array that is $N \\times (M * K)$.\n",
        "\n",
        "**3. Now that we have this array, we can iterate through it to get our mini-batches. **\n",
        "\n",
        "The idea is each batch is a $N \\times M$ window on the $N \\times (M * K)$ array. For each subsequent batch, the window moves over by `seq_length`. We also want to create both the input and target arrays. Remember that the targets are just the inputs shifted over by one character. The way I like to do this window is use `range` to take steps of size `n_steps` from $0$ to `arr.shape[1]`, the total number of tokens in each sequence. That way, the integers you get from `range` always point to the start of a batch, and each window is `seq_length` wide.\n",
        "\n",
        "> **TODO:** Write the code for creating batches in the function below. The exercises in this notebook _will not be easy_. I've provided a notebook with solutions alongside this notebook. If you get stuck, checkout the solutions. The most important thing is that you don't copy and paste the code into here, **type out the solution code yourself.**"
      ]
    },
    {
      "cell_type": "code",
      "execution_count": null,
      "metadata": {
        "collapsed": true,
        "id": "4lVWKzCIT6Ws"
      },
      "outputs": [],
      "source": [
        "def get_batches(arr, batch_size, seq_length):\n",
        "    '''Create a generator that returns batches of size\n",
        "       batch_size x seq_length from arr.\n",
        "       \n",
        "       Arguments\n",
        "       ---------\n",
        "       arr: Array you want to make batches from\n",
        "       batch_size: Batch size, the number of sequences per batch\n",
        "       seq_length: Number of encoded chars in a sequence\n",
        "    '''\n",
        "    \n",
        "    batch_size_total = batch_size * seq_length\n",
        "    # total number of batches we can make\n",
        "    n_batches = len(arr)//batch_size_total\n",
        "    \n",
        "    # Keep only enough characters to make full batches\n",
        "    arr = arr[:n_batches * batch_size_total]\n",
        "    \n",
        "    # Reshape into batch_size rows\n",
        "    # we want the number of rows to be batch size\n",
        "    arr = arr.reshape((batch_size, -1))\n",
        "    \n",
        "    # iterate through the array, one sequence at a time\n",
        "    for n in range(0, arr.shape[1], seq_length):\n",
        "        # The features\n",
        "        x = arr[:, n:n+seq_length]\n",
        "        # The targets, shifted by one\n",
        "        y = np.zeros_like(x)\n",
        "        # fill it up with values from our x array shifted by one\n",
        "        try:\n",
        "          y[:, :-1], y[:, -1] = x[:, 1:], arr[:, n+seq_length]\n",
        "        # in the case of reaching the end of our array\n",
        "        # make the last element of y equal to the first element in our array\n",
        "        except IndexError: \n",
        "          y[:, :-1], y[:, -1] = x[:, 1:], arr[:, 0]\n",
        "        yield x, y"
      ]
    },
    {
      "cell_type": "markdown",
      "metadata": {
        "id": "FDIy6ljRT6Ws"
      },
      "source": [
        "### Test Your Implementation\n",
        "\n",
        "Now I'll make some data sets and we can check out what's going on as we batch data. Here, as an example, I'm going to use a batch size of 8 and 50 sequence steps."
      ]
    },
    {
      "cell_type": "code",
      "execution_count": null,
      "metadata": {
        "collapsed": true,
        "id": "XH2_BJQdT6Ws"
      },
      "outputs": [],
      "source": [
        "batches = get_batches(encoded, 8, 50)\n",
        "x, y = next(batches)"
      ]
    },
    {
      "cell_type": "code",
      "execution_count": null,
      "metadata": {
        "collapsed": true,
        "id": "CPzBxIU4T6Wt",
        "outputId": "2dd14b70-087e-41b3-daea-0e2428698db7",
        "colab": {
          "base_uri": "https://localhost:8080/"
        }
      },
      "outputs": [
        {
          "output_type": "stream",
          "name": "stdout",
          "text": [
            "x\n",
            " [[50 65 42  3 63 56 64 47 34 82]\n",
            " [81 59 46 47 63 65 42 63 47 42]\n",
            " [56 46 57 47 59 64 47 42 47 79]\n",
            " [81 47 63 65 56 47 15 65 76 56]\n",
            " [47 81 42 17 47 65 56 64 47 63]\n",
            " [15 45 81 81 76 59 46 47 42 46]\n",
            " [47 36 46 46 42 47 65 42 57 47]\n",
            " [61 62 35 59 46 81 49 20 68 47]]\n",
            "\n",
            "y\n",
            " [[65 42  3 63 56 64 47 34 82 82]\n",
            " [59 46 47 63 65 42 63 47 42 63]\n",
            " [46 57 47 59 64 47 42 47 79 59]\n",
            " [47 63 65 56 47 15 65 76 56 79]\n",
            " [81 42 17 47 65 56 64 47 63 56]\n",
            " [45 81 81 76 59 46 47 42 46 57]\n",
            " [36 46 46 42 47 65 42 57 47 81]\n",
            " [62 35 59 46 81 49 20 68 47 29]]\n"
          ]
        }
      ],
      "source": [
        "# printing out the first 10 items in a sequence\n",
        "print('x\\n', x[:10, :10])\n",
        "print('\\ny\\n', y[:10, :10])"
      ]
    },
    {
      "cell_type": "markdown",
      "metadata": {
        "id": "xvC-zCG7T6Wt"
      },
      "source": [
        "If implemented `get_batches` correctly, the above output should look something like \n",
        "```\n",
        "x\n",
        " [[25  8 60 11 45 27 28 73  1  2]\n",
        " [17  7 20 73 45  8 60 45 73 60]\n",
        " [27 20 80 73  7 28 73 60 73 65]\n",
        " [17 73 45  8 27 73 66  8 46 27]\n",
        " [73 17 60 12 73  8 27 28 73 45]\n",
        " [66 64 17 17 46  7 20 73 60 20]\n",
        " [73 76 20 20 60 73  8 60 80 73]\n",
        " [47 35 43  7 20 17 24 50 37 73]]\n",
        "\n",
        "y\n",
        " [[ 8 60 11 45 27 28 73  1  2  2]\n",
        " [ 7 20 73 45  8 60 45 73 60 45]\n",
        " [20 80 73  7 28 73 60 73 65  7]\n",
        " [73 45  8 27 73 66  8 46 27 65]\n",
        " [17 60 12 73  8 27 28 73 45 27]\n",
        " [64 17 17 46  7 20 73 60 20 80]\n",
        " [76 20 20 60 73  8 60 80 73 17]\n",
        " [35 43  7 20 17 24 50 37 73 36]]\n",
        " ```\n",
        " although the exact numbers may be different. Check to make sure the data is shifted over one step for `y`."
      ]
    },
    {
      "cell_type": "markdown",
      "metadata": {
        "id": "TNiXrWrVT6Wt"
      },
      "source": [
        "---\n",
        "## Defining the network with PyTorch\n",
        "\n",
        "Below is where we'll define the network.\n",
        "\n",
        "<img src=\"https://github.com/udacity/deep-learning-v2-pytorch/blob/master/recurrent-neural-networks/char-rnn/assets/charRNN.png?raw=1\" width=500px>\n",
        "\n",
        "Next, we'll use PyTorch to define the architecture of the network. We start by defining the layers and operations we want. Then, define a method for the forward pass. We've also been given a method for predicting characters."
      ]
    },
    {
      "cell_type": "markdown",
      "metadata": {
        "id": "I11TwAbIT6Wu"
      },
      "source": [
        "### Model Structure\n",
        "\n",
        "In `__init__` the suggested structure is as follows:\n",
        "* Create and store the necessary dictionaries (this has been done for you)\n",
        "* Define an LSTM layer that takes as params: an input size (the number of characters), a hidden layer size `n_hidden`, a number of layers `n_layers`, a dropout probability `drop_prob`, and a batch_first boolean (True, since we are batching)\n",
        "* Define a dropout layer with `drop_prob`\n",
        "* Define a fully-connected layer with params: input size `n_hidden` and output size (the number of characters)\n",
        "* Finally, initialize the weights (again, this has been given)\n",
        "\n",
        "Note that some parameters have been named and given in the `__init__` function, and we use them and store them by doing something like `self.drop_prob = drop_prob`."
      ]
    },
    {
      "cell_type": "markdown",
      "metadata": {
        "id": "jCb9WB4ST6Wu"
      },
      "source": [
        "---\n",
        "### LSTM Inputs/Outputs\n",
        "\n",
        "You can create a basic [LSTM layer](https://pytorch.org/docs/stable/nn.html#lstm) as follows\n",
        "\n",
        "```python\n",
        "self.lstm = nn.LSTM(input_size, n_hidden, n_layers, \n",
        "                            dropout=drop_prob, batch_first=True)\n",
        "```\n",
        "\n",
        "where `input_size` is the number of characters this cell expects to see as sequential input, and `n_hidden` is the number of units in the hidden layers in the cell. And we can add dropout by adding a dropout parameter with a specified probability; this will automatically add dropout to the inputs or outputs. Finally, in the `forward` function, we can stack up the LSTM cells into layers using `.view`. With this, you pass in a list of cells and it will send the output of one cell into the next cell.\n",
        "\n",
        "We also need to create an initial hidden state of all zeros. This is done like so\n",
        "\n",
        "```python\n",
        "self.init_hidden()\n",
        "```"
      ]
    },
    {
      "cell_type": "code",
      "execution_count": null,
      "metadata": {
        "collapsed": true,
        "id": "Q7n9MNqJT6Wu",
        "colab": {
          "base_uri": "https://localhost:8080/"
        },
        "outputId": "7c237672-737a-4c31-a2ff-a0dd3f02ca49"
      },
      "outputs": [
        {
          "output_type": "stream",
          "name": "stdout",
          "text": [
            "Training on GPU!\n"
          ]
        }
      ],
      "source": [
        "# check if GPU is available\n",
        "train_on_gpu = torch.cuda.is_available()\n",
        "if(train_on_gpu):\n",
        "    print('Training on GPU!')\n",
        "else: \n",
        "    print('No GPU available, training on CPU; consider making n_epochs very small.')"
      ]
    },
    {
      "cell_type": "code",
      "execution_count": null,
      "metadata": {
        "collapsed": true,
        "id": "BhDX2PK1T6Wu"
      },
      "outputs": [],
      "source": [
        "class CharRNN(nn.Module):\n",
        "    \n",
        "    def __init__(self, tokens, n_hidden=256, n_layers=2,\n",
        "                               drop_prob=0.5, lr=0.001):\n",
        "        super().__init__()\n",
        "        self.drop_prob = drop_prob\n",
        "        self.n_layers = n_layers\n",
        "        self.n_hidden = n_hidden\n",
        "        self.lr = lr\n",
        "        \n",
        "        # creating character dictionaries\n",
        "        self.chars = tokens\n",
        "        self.int2char = dict(enumerate(self.chars))\n",
        "        self.char2int = {ch: ii for ii, ch in self.int2char.items()}\n",
        "        \n",
        "        # define the LSTM\n",
        "        # the first parameter is input size, \n",
        "        # and just the length of all of my unique characters\n",
        "        self.lstm = nn.LSTM(len(self.chars), n_hidden, n_layers,\n",
        "               dropout=drop_prob, batch_first=True)\n",
        "        # define a dropout layer\n",
        "        self.dropout = nn.Dropout(drop_prob)\n",
        "\n",
        "        # define the final, fully-connected output layer\n",
        "        # it's going to output our character class scores for the most likely next character\n",
        "        # so the output size is the same size as input size\n",
        "        self.fc = nn.Linear(n_hidden, len(self.chars))\n",
        "      \n",
        "    \n",
        "    def forward(self, x, hidden):\n",
        "        ''' Forward pass through the network. \n",
        "           These inputs are x, and the hidden/cell state `hidden`. '''\n",
        "                \n",
        "        # Get the outputs and the new hidden state from the lstm\n",
        "        r_output, hidden = self.lstm(x, hidden)\n",
        "\n",
        "        # pass through a dropout layer\n",
        "        out = self.dropout(r_output)\n",
        "\n",
        "        # Stack up LSTM outputs using view\n",
        "        out = out.contiguous().view(-1, self.n_hidden)\n",
        "\n",
        "        # put x through the fully-connected layer\n",
        "        out = self.fc(out)\n",
        "\n",
        "        # return the final output and the hidden state\n",
        "        return out, hidden\n",
        "    \n",
        "    \n",
        "    def init_hidden(self, batch_size):\n",
        "        ''' Initializes hidden state '''\n",
        "        # Create two new tensors with sizes n_layers x batch_size x n_hidden,\n",
        "        # initialized to zero, for hidden state and cell state of LSTM\n",
        "        weight = next(self.parameters()).data\n",
        "        \n",
        "        if (train_on_gpu):\n",
        "            hidden = (weight.new(self.n_layers, batch_size, self.n_hidden).zero_().cuda(),\n",
        "                  weight.new(self.n_layers, batch_size, self.n_hidden).zero_().cuda())\n",
        "        else:\n",
        "            hidden = (weight.new(self.n_layers, batch_size, self.n_hidden).zero_(),\n",
        "                      weight.new(self.n_layers, batch_size, self.n_hidden).zero_())\n",
        "        \n",
        "        return hidden\n",
        "        "
      ]
    },
    {
      "cell_type": "markdown",
      "metadata": {
        "id": "j5fP_RLbT6Wv"
      },
      "source": [
        "## Time to train\n",
        "\n",
        "The train function gives us the ability to set the number of epochs, the learning rate, and other parameters.\n",
        "\n",
        "Below we're using an Adam optimizer and cross entropy loss since we are looking at character class scores as output. We calculate the loss and perform backpropagation, as usual!\n",
        "\n",
        "A couple of details about training: \n",
        ">* Within the batch loop, we detach the hidden state from its history; this time setting it equal to a new *tuple* variable because an LSTM has a hidden state that is a tuple of the hidden and cell states.\n",
        "* We use [`clip_grad_norm_`](https://pytorch.org/docs/stable/_modules/torch/nn/utils/clip_grad.html) to help prevent exploding gradients."
      ]
    },
    {
      "cell_type": "code",
      "execution_count": null,
      "metadata": {
        "collapsed": true,
        "id": "gPZ7y6K7T6Wv"
      },
      "outputs": [],
      "source": [
        "def train(net, data, epochs=10, batch_size=10, seq_length=50, lr=0.001, clip=5, val_frac=0.1, print_every=10):\n",
        "    ''' Training a network \n",
        "    \n",
        "        Arguments\n",
        "        ---------\n",
        "        \n",
        "        net: CharRNN network\n",
        "        data: text data to train the network\n",
        "        epochs: Number of epochs to train\n",
        "        batch_size: Number of mini-sequences per mini-batch, aka batch size\n",
        "        seq_length: Number of character steps per mini-batch\n",
        "        lr: learning rate\n",
        "        clip: gradient clipping\n",
        "        val_frac: Fraction of data to hold out for validation\n",
        "        print_every: Number of steps for printing training and validation loss\n",
        "    \n",
        "    '''\n",
        "    net.train()\n",
        "    \n",
        "    opt = torch.optim.Adam(net.parameters(), lr=lr)\n",
        "    criterion = nn.CrossEntropyLoss()\n",
        "    \n",
        "    # create training and validation data\n",
        "    val_idx = int(len(data)*(1-val_frac))\n",
        "    data, val_data = data[:val_idx], data[val_idx:]\n",
        "    \n",
        "    if(train_on_gpu):\n",
        "        net.cuda()\n",
        "    \n",
        "    counter = 0\n",
        "    n_chars = len(net.chars)\n",
        "    for e in range(epochs):\n",
        "        # initialize hidden state\n",
        "        h = net.init_hidden(batch_size)\n",
        "        \n",
        "        for x, y in get_batches(data, batch_size, seq_length):\n",
        "            counter += 1\n",
        "            \n",
        "            # One-hot encode our data and make them Torch tensors\n",
        "            x = one_hot_encode(x, n_chars)\n",
        "            inputs, targets = torch.from_numpy(x), torch.from_numpy(y)\n",
        "            \n",
        "            if(train_on_gpu):\n",
        "                inputs, targets = inputs.cuda(), targets.cuda()\n",
        "\n",
        "            # Creating new variables for the hidden state, otherwise\n",
        "            # we'd backprop through the entire training history\n",
        "            h = tuple([each.data for each in h])\n",
        "\n",
        "            # zero accumulated gradients\n",
        "            net.zero_grad()\n",
        "            \n",
        "            # get the output from the model\n",
        "            output, h = net(inputs, h)\n",
        "            \n",
        "            # calculate the loss and perform backprop\n",
        "            loss = criterion(output, targets.view(batch_size*seq_length).long())\n",
        "            loss.backward()\n",
        "            # `clip_grad_norm` helps prevent the exploding gradient problem in RNNs / LSTMs.\n",
        "            nn.utils.clip_grad_norm_(net.parameters(), clip)\n",
        "            opt.step()\n",
        "            \n",
        "            # loss stats\n",
        "            if counter % print_every == 0:\n",
        "                # Get validation loss\n",
        "                val_h = net.init_hidden(batch_size)\n",
        "                val_losses = []\n",
        "                net.eval()\n",
        "                for x, y in get_batches(val_data, batch_size, seq_length):\n",
        "                    # One-hot encode our data and make them Torch tensors\n",
        "                    x = one_hot_encode(x, n_chars)\n",
        "                    x, y = torch.from_numpy(x), torch.from_numpy(y)\n",
        "                    \n",
        "                    # Creating new variables for the hidden state, otherwise\n",
        "                    # we'd backprop through the entire training history\n",
        "                    val_h = tuple([each.data for each in val_h])\n",
        "                    \n",
        "                    inputs, targets = x, y\n",
        "                    if(train_on_gpu):\n",
        "                        inputs, targets = inputs.cuda(), targets.cuda()\n",
        "\n",
        "                    output, val_h = net(inputs, val_h)\n",
        "                    val_loss = criterion(output, targets.view(batch_size*seq_length).long())\n",
        "                \n",
        "                    val_losses.append(val_loss.item())\n",
        "                \n",
        "                net.train() # reset to train mode after iterationg through validation data\n",
        "                \n",
        "                print(\"Epoch: {}/{}...\".format(e+1, epochs),\n",
        "                      \"Step: {}...\".format(counter),\n",
        "                      \"Loss: {:.4f}...\".format(loss.item()),\n",
        "                      \"Val Loss: {:.4f}\".format(np.mean(val_losses)))"
      ]
    },
    {
      "cell_type": "markdown",
      "metadata": {
        "id": "w7qzlPNmT6Wv"
      },
      "source": [
        "## Instantiating the model\n",
        "\n",
        "Now we can actually train the network. First we'll create the network itself, with some given hyperparameters. Then, define the mini-batches sizes, and start training!"
      ]
    },
    {
      "cell_type": "code",
      "execution_count": null,
      "metadata": {
        "collapsed": true,
        "id": "8rUshoy2T6Wv",
        "colab": {
          "base_uri": "https://localhost:8080/"
        },
        "outputId": "af6f8b3b-3531-445b-9087-c59854a8d444"
      },
      "outputs": [
        {
          "output_type": "stream",
          "name": "stdout",
          "text": [
            "CharRNN(\n",
            "  (lstm): LSTM(83, 512, num_layers=2, batch_first=True, dropout=0.5)\n",
            "  (dropout): Dropout(p=0.5, inplace=False)\n",
            "  (fc): Linear(in_features=512, out_features=83, bias=True)\n",
            ")\n"
          ]
        }
      ],
      "source": [
        "# define and print the net\n",
        "n_hidden= 512\n",
        "n_layers= 2\n",
        "\n",
        "net = CharRNN(chars, n_hidden, n_layers)\n",
        "print(net)"
      ]
    },
    {
      "cell_type": "markdown",
      "metadata": {
        "id": "PcnDxNBlT6Ww"
      },
      "source": [
        "### Set your training hyperparameters!"
      ]
    },
    {
      "cell_type": "code",
      "execution_count": null,
      "metadata": {
        "collapsed": true,
        "scrolled": true,
        "id": "-3XSE-b4T6Ww",
        "colab": {
          "base_uri": "https://localhost:8080/"
        },
        "outputId": "d87b6b54-ce06-4d09-8149-8daa4ca798a3"
      },
      "outputs": [
        {
          "output_type": "stream",
          "name": "stdout",
          "text": [
            "Epoch: 1/20... Step: 10... Loss: 3.2481... Val Loss: 3.1825\n",
            "Epoch: 1/20... Step: 20... Loss: 3.1438... Val Loss: 3.1289\n",
            "Epoch: 1/20... Step: 30... Loss: 3.1408... Val Loss: 3.1218\n",
            "Epoch: 1/20... Step: 40... Loss: 3.1141... Val Loss: 3.1187\n",
            "Epoch: 1/20... Step: 50... Loss: 3.1403... Val Loss: 3.1158\n",
            "Epoch: 1/20... Step: 60... Loss: 3.1136... Val Loss: 3.1117\n",
            "Epoch: 1/20... Step: 70... Loss: 3.0987... Val Loss: 3.1035\n",
            "Epoch: 1/20... Step: 80... Loss: 3.0978... Val Loss: 3.0840\n",
            "Epoch: 1/20... Step: 90... Loss: 3.0657... Val Loss: 3.0470\n",
            "Epoch: 1/20... Step: 100... Loss: 2.9806... Val Loss: 2.9501\n",
            "Epoch: 1/20... Step: 110... Loss: 2.9262... Val Loss: 2.8896\n",
            "Epoch: 1/20... Step: 120... Loss: 2.8331... Val Loss: 2.8478\n",
            "Epoch: 1/20... Step: 130... Loss: 2.7718... Val Loss: 2.7338\n",
            "Epoch: 2/20... Step: 140... Loss: 2.6727... Val Loss: 2.6213\n",
            "Epoch: 2/20... Step: 150... Loss: 2.5980... Val Loss: 2.5471\n",
            "Epoch: 2/20... Step: 160... Loss: 2.5377... Val Loss: 2.4982\n",
            "Epoch: 2/20... Step: 170... Loss: 2.4759... Val Loss: 2.4603\n",
            "Epoch: 2/20... Step: 180... Loss: 2.4510... Val Loss: 2.4428\n",
            "Epoch: 2/20... Step: 190... Loss: 2.4107... Val Loss: 2.4092\n",
            "Epoch: 2/20... Step: 200... Loss: 2.4069... Val Loss: 2.3807\n",
            "Epoch: 2/20... Step: 210... Loss: 2.3774... Val Loss: 2.3575\n",
            "Epoch: 2/20... Step: 220... Loss: 2.3430... Val Loss: 2.3278\n",
            "Epoch: 2/20... Step: 230... Loss: 2.3391... Val Loss: 2.3269\n",
            "Epoch: 2/20... Step: 240... Loss: 2.3219... Val Loss: 2.2863\n",
            "Epoch: 2/20... Step: 250... Loss: 2.2580... Val Loss: 2.2632\n",
            "Epoch: 2/20... Step: 260... Loss: 2.2371... Val Loss: 2.2372\n",
            "Epoch: 2/20... Step: 270... Loss: 2.2395... Val Loss: 2.2146\n",
            "Epoch: 3/20... Step: 280... Loss: 2.2385... Val Loss: 2.2003\n",
            "Epoch: 3/20... Step: 290... Loss: 2.2079... Val Loss: 2.1704\n",
            "Epoch: 3/20... Step: 300... Loss: 2.1797... Val Loss: 2.1526\n",
            "Epoch: 3/20... Step: 310... Loss: 2.1609... Val Loss: 2.1345\n",
            "Epoch: 3/20... Step: 320... Loss: 2.1325... Val Loss: 2.1116\n",
            "Epoch: 3/20... Step: 330... Loss: 2.0997... Val Loss: 2.0973\n",
            "Epoch: 3/20... Step: 340... Loss: 2.1216... Val Loss: 2.0751\n",
            "Epoch: 3/20... Step: 350... Loss: 2.1016... Val Loss: 2.0624\n",
            "Epoch: 3/20... Step: 360... Loss: 2.0352... Val Loss: 2.0416\n",
            "Epoch: 3/20... Step: 370... Loss: 2.0623... Val Loss: 2.0243\n",
            "Epoch: 3/20... Step: 380... Loss: 2.0309... Val Loss: 2.0079\n",
            "Epoch: 3/20... Step: 390... Loss: 2.0108... Val Loss: 1.9937\n",
            "Epoch: 3/20... Step: 400... Loss: 1.9708... Val Loss: 1.9762\n",
            "Epoch: 3/20... Step: 410... Loss: 2.0032... Val Loss: 1.9624\n",
            "Epoch: 4/20... Step: 420... Loss: 1.9830... Val Loss: 1.9468\n",
            "Epoch: 4/20... Step: 430... Loss: 1.9658... Val Loss: 1.9377\n",
            "Epoch: 4/20... Step: 440... Loss: 1.9533... Val Loss: 1.9250\n",
            "Epoch: 4/20... Step: 450... Loss: 1.8984... Val Loss: 1.9080\n",
            "Epoch: 4/20... Step: 460... Loss: 1.8908... Val Loss: 1.9012\n",
            "Epoch: 4/20... Step: 470... Loss: 1.9116... Val Loss: 1.8906\n",
            "Epoch: 4/20... Step: 480... Loss: 1.8959... Val Loss: 1.8787\n",
            "Epoch: 4/20... Step: 490... Loss: 1.9051... Val Loss: 1.8634\n",
            "Epoch: 4/20... Step: 500... Loss: 1.8932... Val Loss: 1.8573\n",
            "Epoch: 4/20... Step: 510... Loss: 1.8742... Val Loss: 1.8407\n",
            "Epoch: 4/20... Step: 520... Loss: 1.8889... Val Loss: 1.8299\n",
            "Epoch: 4/20... Step: 530... Loss: 1.8439... Val Loss: 1.8212\n",
            "Epoch: 4/20... Step: 540... Loss: 1.8008... Val Loss: 1.8138\n",
            "Epoch: 4/20... Step: 550... Loss: 1.8508... Val Loss: 1.8017\n",
            "Epoch: 5/20... Step: 560... Loss: 1.8111... Val Loss: 1.7968\n",
            "Epoch: 5/20... Step: 570... Loss: 1.8062... Val Loss: 1.7889\n",
            "Epoch: 5/20... Step: 580... Loss: 1.7786... Val Loss: 1.7760\n",
            "Epoch: 5/20... Step: 590... Loss: 1.7871... Val Loss: 1.7633\n",
            "Epoch: 5/20... Step: 600... Loss: 1.7761... Val Loss: 1.7594\n",
            "Epoch: 5/20... Step: 610... Loss: 1.7652... Val Loss: 1.7510\n",
            "Epoch: 5/20... Step: 620... Loss: 1.7561... Val Loss: 1.7501\n",
            "Epoch: 5/20... Step: 630... Loss: 1.7703... Val Loss: 1.7335\n",
            "Epoch: 5/20... Step: 640... Loss: 1.7406... Val Loss: 1.7252\n",
            "Epoch: 5/20... Step: 650... Loss: 1.7311... Val Loss: 1.7175\n",
            "Epoch: 5/20... Step: 660... Loss: 1.7116... Val Loss: 1.7118\n",
            "Epoch: 5/20... Step: 670... Loss: 1.7346... Val Loss: 1.7106\n",
            "Epoch: 5/20... Step: 680... Loss: 1.7217... Val Loss: 1.6956\n",
            "Epoch: 5/20... Step: 690... Loss: 1.7053... Val Loss: 1.6956\n",
            "Epoch: 6/20... Step: 700... Loss: 1.7000... Val Loss: 1.6931\n",
            "Epoch: 6/20... Step: 710... Loss: 1.6983... Val Loss: 1.6798\n",
            "Epoch: 6/20... Step: 720... Loss: 1.6782... Val Loss: 1.6717\n",
            "Epoch: 6/20... Step: 730... Loss: 1.6895... Val Loss: 1.6618\n",
            "Epoch: 6/20... Step: 740... Loss: 1.6492... Val Loss: 1.6567\n",
            "Epoch: 6/20... Step: 750... Loss: 1.6332... Val Loss: 1.6531\n",
            "Epoch: 6/20... Step: 760... Loss: 1.6724... Val Loss: 1.6509\n",
            "Epoch: 6/20... Step: 770... Loss: 1.6560... Val Loss: 1.6413\n",
            "Epoch: 6/20... Step: 780... Loss: 1.6394... Val Loss: 1.6346\n",
            "Epoch: 6/20... Step: 790... Loss: 1.6405... Val Loss: 1.6292\n",
            "Epoch: 6/20... Step: 800... Loss: 1.6462... Val Loss: 1.6270\n",
            "Epoch: 6/20... Step: 810... Loss: 1.6357... Val Loss: 1.6193\n",
            "Epoch: 6/20... Step: 820... Loss: 1.5976... Val Loss: 1.6205\n",
            "Epoch: 6/20... Step: 830... Loss: 1.6398... Val Loss: 1.6123\n",
            "Epoch: 7/20... Step: 840... Loss: 1.6002... Val Loss: 1.6082\n",
            "Epoch: 7/20... Step: 850... Loss: 1.6106... Val Loss: 1.5984\n",
            "Epoch: 7/20... Step: 860... Loss: 1.6053... Val Loss: 1.5911\n",
            "Epoch: 7/20... Step: 870... Loss: 1.6046... Val Loss: 1.5879\n",
            "Epoch: 7/20... Step: 880... Loss: 1.6057... Val Loss: 1.5844\n",
            "Epoch: 7/20... Step: 890... Loss: 1.5955... Val Loss: 1.5811\n",
            "Epoch: 7/20... Step: 900... Loss: 1.5878... Val Loss: 1.5800\n",
            "Epoch: 7/20... Step: 910... Loss: 1.5437... Val Loss: 1.5747\n",
            "Epoch: 7/20... Step: 920... Loss: 1.5746... Val Loss: 1.5660\n",
            "Epoch: 7/20... Step: 930... Loss: 1.5530... Val Loss: 1.5634\n",
            "Epoch: 7/20... Step: 940... Loss: 1.5590... Val Loss: 1.5630\n",
            "Epoch: 7/20... Step: 950... Loss: 1.5762... Val Loss: 1.5555\n",
            "Epoch: 7/20... Step: 960... Loss: 1.5759... Val Loss: 1.5513\n",
            "Epoch: 7/20... Step: 970... Loss: 1.5771... Val Loss: 1.5484\n",
            "Epoch: 8/20... Step: 980... Loss: 1.5529... Val Loss: 1.5484\n",
            "Epoch: 8/20... Step: 990... Loss: 1.5494... Val Loss: 1.5442\n",
            "Epoch: 8/20... Step: 1000... Loss: 1.5431... Val Loss: 1.5364\n",
            "Epoch: 8/20... Step: 1010... Loss: 1.5752... Val Loss: 1.5328\n",
            "Epoch: 8/20... Step: 1020... Loss: 1.5440... Val Loss: 1.5309\n",
            "Epoch: 8/20... Step: 1030... Loss: 1.5252... Val Loss: 1.5270\n",
            "Epoch: 8/20... Step: 1040... Loss: 1.5460... Val Loss: 1.5265\n",
            "Epoch: 8/20... Step: 1050... Loss: 1.5135... Val Loss: 1.5231\n",
            "Epoch: 8/20... Step: 1060... Loss: 1.5199... Val Loss: 1.5190\n",
            "Epoch: 8/20... Step: 1070... Loss: 1.5218... Val Loss: 1.5161\n",
            "Epoch: 8/20... Step: 1080... Loss: 1.5271... Val Loss: 1.5168\n",
            "Epoch: 8/20... Step: 1090... Loss: 1.4956... Val Loss: 1.5089\n",
            "Epoch: 8/20... Step: 1100... Loss: 1.4939... Val Loss: 1.5040\n",
            "Epoch: 8/20... Step: 1110... Loss: 1.5084... Val Loss: 1.5021\n",
            "Epoch: 9/20... Step: 1120... Loss: 1.5229... Val Loss: 1.5009\n",
            "Epoch: 9/20... Step: 1130... Loss: 1.5019... Val Loss: 1.4963\n",
            "Epoch: 9/20... Step: 1140... Loss: 1.5052... Val Loss: 1.4958\n",
            "Epoch: 9/20... Step: 1150... Loss: 1.5218... Val Loss: 1.4937\n",
            "Epoch: 9/20... Step: 1160... Loss: 1.4743... Val Loss: 1.4912\n",
            "Epoch: 9/20... Step: 1170... Loss: 1.4897... Val Loss: 1.4888\n",
            "Epoch: 9/20... Step: 1180... Loss: 1.4799... Val Loss: 1.4887\n",
            "Epoch: 9/20... Step: 1190... Loss: 1.5100... Val Loss: 1.4798\n",
            "Epoch: 9/20... Step: 1200... Loss: 1.4661... Val Loss: 1.4760\n",
            "Epoch: 9/20... Step: 1210... Loss: 1.4721... Val Loss: 1.4742\n",
            "Epoch: 9/20... Step: 1220... Loss: 1.4638... Val Loss: 1.4767\n",
            "Epoch: 9/20... Step: 1230... Loss: 1.4449... Val Loss: 1.4688\n",
            "Epoch: 9/20... Step: 1240... Loss: 1.4629... Val Loss: 1.4654\n",
            "Epoch: 9/20... Step: 1250... Loss: 1.4586... Val Loss: 1.4652\n",
            "Epoch: 10/20... Step: 1260... Loss: 1.4672... Val Loss: 1.4668\n",
            "Epoch: 10/20... Step: 1270... Loss: 1.4675... Val Loss: 1.4597\n",
            "Epoch: 10/20... Step: 1280... Loss: 1.4668... Val Loss: 1.4565\n",
            "Epoch: 10/20... Step: 1290... Loss: 1.4676... Val Loss: 1.4571\n",
            "Epoch: 10/20... Step: 1300... Loss: 1.4455... Val Loss: 1.4571\n",
            "Epoch: 10/20... Step: 1310... Loss: 1.4582... Val Loss: 1.4522\n",
            "Epoch: 10/20... Step: 1320... Loss: 1.4385... Val Loss: 1.4513\n",
            "Epoch: 10/20... Step: 1330... Loss: 1.4361... Val Loss: 1.4504\n",
            "Epoch: 10/20... Step: 1340... Loss: 1.4277... Val Loss: 1.4431\n",
            "Epoch: 10/20... Step: 1350... Loss: 1.4144... Val Loss: 1.4402\n",
            "Epoch: 10/20... Step: 1360... Loss: 1.4245... Val Loss: 1.4422\n",
            "Epoch: 10/20... Step: 1370... Loss: 1.4126... Val Loss: 1.4376\n",
            "Epoch: 10/20... Step: 1380... Loss: 1.4466... Val Loss: 1.4350\n",
            "Epoch: 10/20... Step: 1390... Loss: 1.4599... Val Loss: 1.4345\n",
            "Epoch: 11/20... Step: 1400... Loss: 1.4617... Val Loss: 1.4332\n",
            "Epoch: 11/20... Step: 1410... Loss: 1.4669... Val Loss: 1.4327\n",
            "Epoch: 11/20... Step: 1420... Loss: 1.4441... Val Loss: 1.4245\n",
            "Epoch: 11/20... Step: 1430... Loss: 1.4111... Val Loss: 1.4265\n",
            "Epoch: 11/20... Step: 1440... Loss: 1.4390... Val Loss: 1.4275\n",
            "Epoch: 11/20... Step: 1450... Loss: 1.3748... Val Loss: 1.4249\n",
            "Epoch: 11/20... Step: 1460... Loss: 1.3995... Val Loss: 1.4234\n",
            "Epoch: 11/20... Step: 1470... Loss: 1.3985... Val Loss: 1.4211\n",
            "Epoch: 11/20... Step: 1480... Loss: 1.4142... Val Loss: 1.4162\n",
            "Epoch: 11/20... Step: 1490... Loss: 1.4073... Val Loss: 1.4171\n",
            "Epoch: 11/20... Step: 1500... Loss: 1.3820... Val Loss: 1.4207\n",
            "Epoch: 11/20... Step: 1510... Loss: 1.3655... Val Loss: 1.4121\n",
            "Epoch: 11/20... Step: 1520... Loss: 1.4234... Val Loss: 1.4117\n",
            "Epoch: 12/20... Step: 1530... Loss: 1.4559... Val Loss: 1.4126\n",
            "Epoch: 12/20... Step: 1540... Loss: 1.4150... Val Loss: 1.4071\n",
            "Epoch: 12/20... Step: 1550... Loss: 1.4095... Val Loss: 1.4044\n",
            "Epoch: 12/20... Step: 1560... Loss: 1.4216... Val Loss: 1.4031\n",
            "Epoch: 12/20... Step: 1570... Loss: 1.3742... Val Loss: 1.4058\n",
            "Epoch: 12/20... Step: 1580... Loss: 1.3481... Val Loss: 1.4027\n",
            "Epoch: 12/20... Step: 1590... Loss: 1.3462... Val Loss: 1.3979\n",
            "Epoch: 12/20... Step: 1600... Loss: 1.3730... Val Loss: 1.3997\n",
            "Epoch: 12/20... Step: 1610... Loss: 1.3667... Val Loss: 1.3989\n",
            "Epoch: 12/20... Step: 1620... Loss: 1.3668... Val Loss: 1.3944\n",
            "Epoch: 12/20... Step: 1630... Loss: 1.3915... Val Loss: 1.3921\n",
            "Epoch: 12/20... Step: 1640... Loss: 1.3735... Val Loss: 1.3960\n",
            "Epoch: 12/20... Step: 1650... Loss: 1.3427... Val Loss: 1.3922\n",
            "Epoch: 12/20... Step: 1660... Loss: 1.3915... Val Loss: 1.3897\n",
            "Epoch: 13/20... Step: 1670... Loss: 1.3651... Val Loss: 1.3907\n",
            "Epoch: 13/20... Step: 1680... Loss: 1.3772... Val Loss: 1.3890\n",
            "Epoch: 13/20... Step: 1690... Loss: 1.3562... Val Loss: 1.3858\n",
            "Epoch: 13/20... Step: 1700... Loss: 1.3570... Val Loss: 1.3867\n",
            "Epoch: 13/20... Step: 1710... Loss: 1.3348... Val Loss: 1.3839\n",
            "Epoch: 13/20... Step: 1720... Loss: 1.3513... Val Loss: 1.3863\n",
            "Epoch: 13/20... Step: 1730... Loss: 1.3845... Val Loss: 1.3803\n",
            "Epoch: 13/20... Step: 1740... Loss: 1.3454... Val Loss: 1.3786\n",
            "Epoch: 13/20... Step: 1750... Loss: 1.3184... Val Loss: 1.3816\n",
            "Epoch: 13/20... Step: 1760... Loss: 1.3412... Val Loss: 1.3783\n",
            "Epoch: 13/20... Step: 1770... Loss: 1.3618... Val Loss: 1.3753\n",
            "Epoch: 13/20... Step: 1780... Loss: 1.3335... Val Loss: 1.3766\n",
            "Epoch: 13/20... Step: 1790... Loss: 1.3225... Val Loss: 1.3730\n",
            "Epoch: 13/20... Step: 1800... Loss: 1.3461... Val Loss: 1.3723\n",
            "Epoch: 14/20... Step: 1810... Loss: 1.3616... Val Loss: 1.3782\n",
            "Epoch: 14/20... Step: 1820... Loss: 1.3376... Val Loss: 1.3717\n",
            "Epoch: 14/20... Step: 1830... Loss: 1.3651... Val Loss: 1.3679\n",
            "Epoch: 14/20... Step: 1840... Loss: 1.3080... Val Loss: 1.3672\n",
            "Epoch: 14/20... Step: 1850... Loss: 1.2913... Val Loss: 1.3673\n",
            "Epoch: 14/20... Step: 1860... Loss: 1.3512... Val Loss: 1.3666\n",
            "Epoch: 14/20... Step: 1870... Loss: 1.3537... Val Loss: 1.3651\n",
            "Epoch: 14/20... Step: 1880... Loss: 1.3435... Val Loss: 1.3654\n",
            "Epoch: 14/20... Step: 1890... Loss: 1.3642... Val Loss: 1.3619\n",
            "Epoch: 14/20... Step: 1900... Loss: 1.3296... Val Loss: 1.3632\n",
            "Epoch: 14/20... Step: 1910... Loss: 1.3336... Val Loss: 1.3585\n",
            "Epoch: 14/20... Step: 1920... Loss: 1.3274... Val Loss: 1.3572\n",
            "Epoch: 14/20... Step: 1930... Loss: 1.2962... Val Loss: 1.3613\n",
            "Epoch: 14/20... Step: 1940... Loss: 1.3529... Val Loss: 1.3579\n",
            "Epoch: 15/20... Step: 1950... Loss: 1.3207... Val Loss: 1.3596\n",
            "Epoch: 15/20... Step: 1960... Loss: 1.3202... Val Loss: 1.3576\n",
            "Epoch: 15/20... Step: 1970... Loss: 1.3117... Val Loss: 1.3537\n",
            "Epoch: 15/20... Step: 1980... Loss: 1.3118... Val Loss: 1.3555\n",
            "Epoch: 15/20... Step: 1990... Loss: 1.3123... Val Loss: 1.3525\n",
            "Epoch: 15/20... Step: 2000... Loss: 1.2986... Val Loss: 1.3532\n",
            "Epoch: 15/20... Step: 2010... Loss: 1.3131... Val Loss: 1.3522\n",
            "Epoch: 15/20... Step: 2020... Loss: 1.3350... Val Loss: 1.3517\n",
            "Epoch: 15/20... Step: 2030... Loss: 1.2998... Val Loss: 1.3490\n",
            "Epoch: 15/20... Step: 2040... Loss: 1.3131... Val Loss: 1.3484\n",
            "Epoch: 15/20... Step: 2050... Loss: 1.2952... Val Loss: 1.3441\n",
            "Epoch: 15/20... Step: 2060... Loss: 1.3044... Val Loss: 1.3454\n",
            "Epoch: 15/20... Step: 2070... Loss: 1.3131... Val Loss: 1.3442\n",
            "Epoch: 15/20... Step: 2080... Loss: 1.3099... Val Loss: 1.3492\n",
            "Epoch: 16/20... Step: 2090... Loss: 1.3200... Val Loss: 1.3457\n",
            "Epoch: 16/20... Step: 2100... Loss: 1.3029... Val Loss: 1.3436\n",
            "Epoch: 16/20... Step: 2110... Loss: 1.2841... Val Loss: 1.3419\n",
            "Epoch: 16/20... Step: 2120... Loss: 1.2975... Val Loss: 1.3383\n",
            "Epoch: 16/20... Step: 2130... Loss: 1.2827... Val Loss: 1.3413\n",
            "Epoch: 16/20... Step: 2140... Loss: 1.2912... Val Loss: 1.3392\n",
            "Epoch: 16/20... Step: 2150... Loss: 1.3202... Val Loss: 1.3376\n",
            "Epoch: 16/20... Step: 2160... Loss: 1.2883... Val Loss: 1.3400\n",
            "Epoch: 16/20... Step: 2170... Loss: 1.2922... Val Loss: 1.3376\n",
            "Epoch: 16/20... Step: 2180... Loss: 1.2845... Val Loss: 1.3395\n",
            "Epoch: 16/20... Step: 2190... Loss: 1.3072... Val Loss: 1.3342\n",
            "Epoch: 16/20... Step: 2200... Loss: 1.2877... Val Loss: 1.3345\n",
            "Epoch: 16/20... Step: 2210... Loss: 1.2561... Val Loss: 1.3324\n",
            "Epoch: 16/20... Step: 2220... Loss: 1.2966... Val Loss: 1.3320\n",
            "Epoch: 17/20... Step: 2230... Loss: 1.2786... Val Loss: 1.3304\n",
            "Epoch: 17/20... Step: 2240... Loss: 1.2870... Val Loss: 1.3318\n",
            "Epoch: 17/20... Step: 2250... Loss: 1.2686... Val Loss: 1.3335\n",
            "Epoch: 17/20... Step: 2260... Loss: 1.2786... Val Loss: 1.3269\n",
            "Epoch: 17/20... Step: 2270... Loss: 1.2915... Val Loss: 1.3298\n",
            "Epoch: 17/20... Step: 2280... Loss: 1.2930... Val Loss: 1.3272\n",
            "Epoch: 17/20... Step: 2290... Loss: 1.2861... Val Loss: 1.3273\n",
            "Epoch: 17/20... Step: 2300... Loss: 1.2500... Val Loss: 1.3270\n",
            "Epoch: 17/20... Step: 2310... Loss: 1.2797... Val Loss: 1.3264\n",
            "Epoch: 17/20... Step: 2320... Loss: 1.2626... Val Loss: 1.3281\n",
            "Epoch: 17/20... Step: 2330... Loss: 1.2603... Val Loss: 1.3241\n",
            "Epoch: 17/20... Step: 2340... Loss: 1.2860... Val Loss: 1.3249\n",
            "Epoch: 17/20... Step: 2350... Loss: 1.2866... Val Loss: 1.3221\n",
            "Epoch: 17/20... Step: 2360... Loss: 1.2896... Val Loss: 1.3259\n",
            "Epoch: 18/20... Step: 2370... Loss: 1.2631... Val Loss: 1.3291\n",
            "Epoch: 18/20... Step: 2380... Loss: 1.2700... Val Loss: 1.3244\n",
            "Epoch: 18/20... Step: 2390... Loss: 1.2596... Val Loss: 1.3262\n",
            "Epoch: 18/20... Step: 2400... Loss: 1.2873... Val Loss: 1.3230\n",
            "Epoch: 18/20... Step: 2410... Loss: 1.2824... Val Loss: 1.3225\n",
            "Epoch: 18/20... Step: 2420... Loss: 1.2681... Val Loss: 1.3216\n",
            "Epoch: 18/20... Step: 2430... Loss: 1.2791... Val Loss: 1.3223\n",
            "Epoch: 18/20... Step: 2440... Loss: 1.2588... Val Loss: 1.3196\n",
            "Epoch: 18/20... Step: 2450... Loss: 1.2505... Val Loss: 1.3185\n",
            "Epoch: 18/20... Step: 2460... Loss: 1.2633... Val Loss: 1.3173\n",
            "Epoch: 18/20... Step: 2470... Loss: 1.2620... Val Loss: 1.3183\n",
            "Epoch: 18/20... Step: 2480... Loss: 1.2568... Val Loss: 1.3163\n",
            "Epoch: 18/20... Step: 2490... Loss: 1.2425... Val Loss: 1.3159\n",
            "Epoch: 18/20... Step: 2500... Loss: 1.2571... Val Loss: 1.3155\n",
            "Epoch: 19/20... Step: 2510... Loss: 1.2532... Val Loss: 1.3128\n",
            "Epoch: 19/20... Step: 2520... Loss: 1.2684... Val Loss: 1.3150\n",
            "Epoch: 19/20... Step: 2530... Loss: 1.2658... Val Loss: 1.3127\n",
            "Epoch: 19/20... Step: 2540... Loss: 1.2904... Val Loss: 1.3124\n",
            "Epoch: 19/20... Step: 2550... Loss: 1.2504... Val Loss: 1.3141\n",
            "Epoch: 19/20... Step: 2560... Loss: 1.2656... Val Loss: 1.3120\n",
            "Epoch: 19/20... Step: 2570... Loss: 1.2469... Val Loss: 1.3139\n",
            "Epoch: 19/20... Step: 2580... Loss: 1.2838... Val Loss: 1.3117\n",
            "Epoch: 19/20... Step: 2590... Loss: 1.2381... Val Loss: 1.3111\n",
            "Epoch: 19/20... Step: 2600... Loss: 1.2492... Val Loss: 1.3123\n",
            "Epoch: 19/20... Step: 2610... Loss: 1.2483... Val Loss: 1.3080\n",
            "Epoch: 19/20... Step: 2620... Loss: 1.2363... Val Loss: 1.3105\n",
            "Epoch: 19/20... Step: 2630... Loss: 1.2406... Val Loss: 1.3116\n",
            "Epoch: 19/20... Step: 2640... Loss: 1.2533... Val Loss: 1.3088\n",
            "Epoch: 20/20... Step: 2650... Loss: 1.2517... Val Loss: 1.3060\n",
            "Epoch: 20/20... Step: 2660... Loss: 1.2627... Val Loss: 1.3089\n",
            "Epoch: 20/20... Step: 2670... Loss: 1.2653... Val Loss: 1.3058\n",
            "Epoch: 20/20... Step: 2680... Loss: 1.2536... Val Loss: 1.3063\n",
            "Epoch: 20/20... Step: 2690... Loss: 1.2444... Val Loss: 1.3061\n",
            "Epoch: 20/20... Step: 2700... Loss: 1.2569... Val Loss: 1.3045\n",
            "Epoch: 20/20... Step: 2710... Loss: 1.2288... Val Loss: 1.3071\n",
            "Epoch: 20/20... Step: 2720... Loss: 1.2167... Val Loss: 1.3050\n",
            "Epoch: 20/20... Step: 2730... Loss: 1.2130... Val Loss: 1.3038\n",
            "Epoch: 20/20... Step: 2740... Loss: 1.2146... Val Loss: 1.3053\n",
            "Epoch: 20/20... Step: 2750... Loss: 1.2214... Val Loss: 1.3056\n",
            "Epoch: 20/20... Step: 2760... Loss: 1.2262... Val Loss: 1.3035\n",
            "Epoch: 20/20... Step: 2770... Loss: 1.2533... Val Loss: 1.3039\n",
            "Epoch: 20/20... Step: 2780... Loss: 1.2900... Val Loss: 1.2998\n"
          ]
        }
      ],
      "source": [
        "batch_size = 128\n",
        "seq_length = 100\n",
        "n_epochs = 20 # start small if you are just testing initial behavior\n",
        "\n",
        "# train the model\n",
        "train(net, encoded, epochs=n_epochs, batch_size=batch_size, seq_length=seq_length, lr=0.001, print_every=10)"
      ]
    },
    {
      "cell_type": "markdown",
      "metadata": {
        "id": "VUFmde_AT6Ww"
      },
      "source": [
        "## Getting the best model\n",
        "\n",
        "To set your hyperparameters to get the best performance, you'll want to watch the training and validation losses. If your training loss is much lower than the validation loss, you're overfitting. Increase regularization (more dropout) or use a smaller network. If the training and validation losses are close, you're underfitting so you can increase the size of the network."
      ]
    },
    {
      "cell_type": "markdown",
      "metadata": {
        "id": "nNDNh-bMT6Ww"
      },
      "source": [
        "## Hyperparameters\n",
        "\n",
        "Here are the hyperparameters for the network.\n",
        "\n",
        "In defining the model:\n",
        "* `n_hidden` - The number of units in the hidden layers.\n",
        "* `n_layers` - Number of hidden LSTM layers to use.\n",
        "\n",
        "We assume that dropout probability and learning rate will be kept at the default, in this example.\n",
        "\n",
        "And in training:\n",
        "* `batch_size` - Number of sequences running through the network in one pass.\n",
        "* `seq_length` - Number of characters in the sequence the network is trained on. Larger is better typically, the network will learn more long range dependencies. But it takes longer to train. 100 is typically a good number here.\n",
        "* `lr` - Learning rate for training\n",
        "\n",
        "Here's some good advice from Andrej Karpathy on training the network. I'm going to copy it in here for your benefit, but also link to [where it originally came from](https://github.com/karpathy/char-rnn#tips-and-tricks).\n",
        "\n",
        "> ## Tips and Tricks\n",
        "\n",
        ">### Monitoring Validation Loss vs. Training Loss\n",
        ">If you're somewhat new to Machine Learning or Neural Networks it can take a bit of expertise to get good models. The most important quantity to keep track of is the difference between your training loss (printed during training) and the validation loss (printed once in a while when the RNN is run on the validation data (by default every 1000 iterations)). In particular:\n",
        "\n",
        "> - If your training loss is much lower than validation loss then this means the network might be **overfitting**. Solutions to this are to decrease your network size, or to increase dropout. For example you could try dropout of 0.5 and so on.\n",
        "> - If your training/validation loss are about equal then your model is **underfitting**. Increase the size of your model (either number of layers or the raw number of neurons per layer)\n",
        "\n",
        "> ### Approximate number of parameters\n",
        "\n",
        "> The two most important parameters that control the model are `n_hidden` and `n_layers`. I would advise that you always use `n_layers` of either 2/3. The `n_hidden` can be adjusted based on how much data you have. The two important quantities to keep track of here are:\n",
        "\n",
        "> - The number of parameters in your model. This is printed when you start training.\n",
        "> - The size of your dataset. 1MB file is approximately 1 million characters.\n",
        "\n",
        ">These two should be about the same order of magnitude. It's a little tricky to tell. Here are some examples:\n",
        "\n",
        "> - I have a 100MB dataset and I'm using the default parameter settings (which currently print 150K parameters). My data size is significantly larger (100 mil >> 0.15 mil), so I expect to heavily underfit. I am thinking I can comfortably afford to make `n_hidden` larger.\n",
        "> - I have a 10MB dataset and running a 10 million parameter model. I'm slightly nervous and I'm carefully monitoring my validation loss. If it's larger than my training loss then I may want to try to increase dropout a bit and see if that helps the validation loss.\n",
        "\n",
        "> ### Best models strategy\n",
        "\n",
        ">The winning strategy to obtaining very good models (if you have the compute time) is to always err on making the network larger (as large as you're willing to wait for it to compute) and then try different dropout values (between 0,1). Whatever model has the best validation performance (the loss, written in the checkpoint filename, low is good) is the one you should use in the end.\n",
        "\n",
        ">It is very common in deep learning to run many different models with many different hyperparameter settings, and in the end take whatever checkpoint gave the best validation performance.\n",
        "\n",
        ">By the way, the size of your training and validation splits are also parameters. Make sure you have a decent amount of data in your validation set or otherwise the validation performance will be noisy and not very informative."
      ]
    },
    {
      "cell_type": "markdown",
      "metadata": {
        "id": "FciVdD0ET6Wz"
      },
      "source": [
        "## Checkpoint\n",
        "\n",
        "After training, we'll save the model so we can load it again later if we need too. Here I'm saving the parameters needed to create the same architecture, the hidden layer hyperparameters and the text characters."
      ]
    },
    {
      "cell_type": "code",
      "execution_count": null,
      "metadata": {
        "collapsed": true,
        "id": "UtikzuvCT6Wz"
      },
      "outputs": [],
      "source": [
        "# change the name, for saving multiple files\n",
        "model_name = 'rnn_x_epoch.net'\n",
        "\n",
        "checkpoint = {'n_hidden': net.n_hidden,\n",
        "              'n_layers': net.n_layers,\n",
        "              'state_dict': net.state_dict(),\n",
        "              'tokens': net.chars}\n",
        "\n",
        "with open(model_name, 'wb') as f:\n",
        "    torch.save(checkpoint, f)"
      ]
    },
    {
      "cell_type": "markdown",
      "metadata": {
        "id": "QXEW5HWrT6Wz"
      },
      "source": [
        "---\n",
        "## Making Predictions\n",
        "\n",
        "Now that the model is trained, we'll want to sample from it and make predictions about next characters! To sample, we pass in a character and have the network predict the next character. Then we take that character, pass it back in, and get another predicted character. Just keep doing this and you'll generate a bunch of text!\n",
        "\n",
        "### A note on the `predict`  function\n",
        "\n",
        "The output of our RNN is from a fully-connected layer and it outputs a **distribution of next-character scores**.\n",
        "\n",
        "> To actually get the next character, we apply a softmax function, which gives us a *probability* distribution that we can then sample to predict the next character.\n",
        "\n",
        "### Top K sampling\n",
        "\n",
        "Our predictions come from a categorical probability distribution over all the possible characters. We can make the sample text and make it more reasonable to handle (with less variables) by only considering some $K$ most probable characters. This will prevent the network from giving us completely absurd characters while allowing it to introduce some noise and randomness into the sampled text. Read more about [topk, here](https://pytorch.org/docs/stable/torch.html#torch.topk).\n"
      ]
    },
    {
      "cell_type": "code",
      "execution_count": null,
      "metadata": {
        "collapsed": true,
        "id": "C4PQCjOWT6W0"
      },
      "outputs": [],
      "source": [
        "def predict(net, char, h=None, top_k=None):\n",
        "        ''' Given a character, predict the next character.\n",
        "            Returns the predicted character and the hidden state.\n",
        "        '''\n",
        "        \n",
        "        # tensor inputs\n",
        "        # taking in our input character and converting it\n",
        "        # into it's encoded integer value\n",
        "        x = np.array([[net.char2int[char]]])\n",
        "        x = one_hot_encode(x, len(net.chars))\n",
        "        inputs = torch.from_numpy(x)\n",
        "        \n",
        "        if(train_on_gpu):\n",
        "            inputs = inputs.cuda()\n",
        "        \n",
        "        # detach hidden state from history\n",
        "        h = tuple([each.data for each in h])\n",
        "        # get the output of the model\n",
        "        out, h = net(inputs, h)\n",
        "\n",
        "        # get the character probabilities\n",
        "        p = F.softmax(out, dim=1).data\n",
        "        if(train_on_gpu):\n",
        "            p = p.cpu() # move to cpu\n",
        "        \n",
        "        # get top characters\n",
        "        if top_k is None:\n",
        "            top_ch = np.arange(len(net.chars))\n",
        "        else:\n",
        "            p, top_ch = p.topk(top_k)\n",
        "            top_ch = top_ch.numpy().squeeze()\n",
        "        \n",
        "        # select the likely next character with some element of randomness\n",
        "        p = p.numpy().squeeze()\n",
        "        char = np.random.choice(top_ch, p=p/p.sum())\n",
        "        \n",
        "        # return the encoded value of the predicted char and the hidden state\n",
        "        return net.int2char[char], h"
      ]
    },
    {
      "cell_type": "markdown",
      "metadata": {
        "id": "cOWXk2_kT6W0"
      },
      "source": [
        "### Priming and generating text \n",
        "\n",
        "Typically you'll want to prime the network so you can build up a hidden state. Otherwise the network will start out generating characters at random. In general the first bunch of characters will be a little rough since it hasn't built up a long history of characters to predict from."
      ]
    },
    {
      "cell_type": "code",
      "execution_count": null,
      "metadata": {
        "collapsed": true,
        "id": "X4NKUQncT6W0"
      },
      "outputs": [],
      "source": [
        "def sample(net, size, prime='The', top_k=None):\n",
        "        \n",
        "    if(train_on_gpu):\n",
        "        net.cuda()\n",
        "    else:\n",
        "        net.cpu()\n",
        "    \n",
        "    net.eval() # eval mode\n",
        "    \n",
        "    # First off, run through the prime characters\n",
        "    chars = [ch for ch in prime]\n",
        "    h = net.init_hidden(1) # for one character that we're inputting at a time\n",
        "    for ch in prime:\n",
        "        char, h = predict(net, ch, h, top_k=top_k)\n",
        "\n",
        "    chars.append(char)\n",
        "    \n",
        "    # Now pass in the previous character and get a new one\n",
        "    for ii in range(size):\n",
        "        char, h = predict(net, chars[-1], h, top_k=top_k)\n",
        "        chars.append(char)\n",
        "\n",
        "    return ''.join(chars)"
      ]
    },
    {
      "cell_type": "code",
      "execution_count": null,
      "metadata": {
        "collapsed": true,
        "id": "p2KE31lDT6W0",
        "colab": {
          "base_uri": "https://localhost:8080/"
        },
        "outputId": "481ee1a6-6ae7-497e-b49e-5374df42aef0"
      },
      "outputs": [
        {
          "output_type": "stream",
          "name": "stdout",
          "text": [
            "Anna and Vronsky and Levin had always dreamed the same, too\n",
            "standing at her, and she had at fruends and strugg into\n",
            "the street.\"\n",
            "\n",
            "He felt her frem to the fact that there was the mean of to him, but at that moment\n",
            "all the more solest conversation\n",
            "with her eyes were already to tell him in\n",
            "her hands. Stepan Arkadyevitch's face, his hand, and then\n",
            "there was no talking and attention of a supper than anyone, and at once, the professor had been suppressed his boots of her heart a still women\n",
            "that he came them into who could not be, he was saying. And his shill he called him, taken to the doctors, and another, as though the party\n",
            "she had not saying. She saw a feeling, he could not say that he had\n",
            "so sitting the way, trousing his since with her\n",
            "signs into her from her soul, and the sick children almost the sound of the carriage at the same, and\n",
            "a smile where she had not been distrusted into his hands in a share and saying the\n",
            "children to say,\n",
            "and he would not have see her. He could not think of the \n"
          ]
        }
      ],
      "source": [
        "print(sample(net, 1000, prime='Anna', top_k=5))"
      ]
    },
    {
      "cell_type": "markdown",
      "metadata": {
        "id": "czEQkW1CT6W0"
      },
      "source": [
        "## Loading a checkpoint"
      ]
    },
    {
      "cell_type": "code",
      "execution_count": null,
      "metadata": {
        "collapsed": true,
        "id": "_lk3bU8dT6W0",
        "colab": {
          "base_uri": "https://localhost:8080/"
        },
        "outputId": "3495dff3-74f7-42a7-a0d0-42f006ebcfce"
      },
      "outputs": [
        {
          "output_type": "execute_result",
          "data": {
            "text/plain": [
              "<All keys matched successfully>"
            ]
          },
          "metadata": {},
          "execution_count": 70
        }
      ],
      "source": [
        "# Here we have loaded in a model that trained over 20 epochs `rnn_20_epoch.net`\n",
        "with open('rnn_x_epoch.net', 'rb') as f:\n",
        "    checkpoint = torch.load(f)\n",
        "    \n",
        "loaded = CharRNN(checkpoint['tokens'], n_hidden=checkpoint['n_hidden'], n_layers=checkpoint['n_layers'])\n",
        "loaded.load_state_dict(checkpoint['state_dict'])"
      ]
    },
    {
      "cell_type": "code",
      "execution_count": null,
      "metadata": {
        "collapsed": true,
        "id": "gEKr_zm2T6W1",
        "colab": {
          "base_uri": "https://localhost:8080/"
        },
        "outputId": "8b61c94a-a315-447d-8118-6ed8a7dd3475"
      },
      "outputs": [
        {
          "output_type": "stream",
          "name": "stdout",
          "text": [
            "And Levin said that the made was a striggle of the children's satisfaction with a ladiast and helight that. He was not all the first state of\n",
            "hard from this, as\n",
            "he felt all the simplest or the carriage. And the drop had been the country.\n",
            "\n",
            "\"Well, then't you have been far of your feelings. The peasants one\n",
            "can get it. What do what is seeing you?\"\n",
            "\n",
            "\"I don't know to have something been in such\n",
            "musingrasticily talking at the from the man, would think of\n",
            "here.\"\n",
            "\n",
            "\"Oh, never thought?\"\n",
            "\n",
            "\"When you're no gentleman,\" she went of to\n",
            "him.\n",
            "\n",
            "\"I don't say that you must go to\n",
            "the men our figure of monings at this sour, the peasants went always a stands and have more than a lowel. I come to the same in society. When I cannot be simply, to do he some order it, and too,\n",
            "to her honest....\n",
            "What, anyway she?' That is an expression\n",
            "of more, but there's no seciet, and then to say all out of them. How did not know, and I'll\n",
            "be time. Who has nothing, and to\n",
            "marry a shade\n",
            "in her, that he say a face, what you\n",
            "want to go to her?\"\n",
            "\n",
            "Alexey Alexandrovitch was not to speak of him. She was not at\n",
            "the fight of the first time in his childhe that had brought them to hin something of the simplesity when though\n",
            "he was somewhere in the\n",
            "country, the\n",
            "children the manselves and her head showed her short feeling and answer in the point\n",
            "of his heart.\n",
            "\n",
            "\"I don't know, and say in her\n",
            "son, we should not say that,\" said\n",
            "Anna,\n",
            "looking down, sitting at Anna again at the carriage to her. \"I started the consent, and which were any carriage\n",
            "to the\n",
            "propisition of all her\n",
            "fares that had been all the first man, and\n",
            "here he started on the peasants about the cart, but I should be is necessary for him...\" he thought, and to his cleer and serious hands, and he saw is not a little\n",
            "thoughts, and this were a grais to the same time to see her wife.,. \"You will think of and make a sick mind that he would be to deterts her.\n",
            "\n",
            "\"What do you know!\"\n",
            "Stepan Arkadyevitch stood a long wife and wishen in his boxy to the same wife.\n",
            "\n",
            "\"They would say?\" he asked\n"
          ]
        }
      ],
      "source": [
        "# Sample using a loaded model\n",
        "print(sample(loaded, 2000, top_k=5, prime=\"And Levin said\"))"
      ]
    },
    {
      "cell_type": "code",
      "execution_count": null,
      "metadata": {
        "collapsed": true,
        "id": "AZjdAHEvT6W1"
      },
      "outputs": [],
      "source": []
    }
  ],
  "metadata": {
    "kernelspec": {
      "display_name": "Python [default]",
      "language": "python",
      "name": "python3"
    },
    "language_info": {
      "codemirror_mode": {
        "name": "ipython",
        "version": 3
      },
      "file_extension": ".py",
      "mimetype": "text/x-python",
      "name": "python",
      "nbconvert_exporter": "python",
      "pygments_lexer": "ipython3",
      "version": "3.6.4"
    },
    "colab": {
      "provenance": [],
      "collapsed_sections": [],
      "include_colab_link": true
    }
  },
  "nbformat": 4,
  "nbformat_minor": 0
}