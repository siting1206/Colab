{
  "nbformat": 4,
  "nbformat_minor": 0,
  "metadata": {
    "colab": {
      "provenance": [],
      "collapsed_sections": [],
      "authorship_tag": "ABX9TyPNMLJQuljfyqs1cTAV1A3j",
      "include_colab_link": true
    },
    "kernelspec": {
      "name": "python3",
      "display_name": "Python 3"
    },
    "language_info": {
      "name": "python"
    }
  },
  "cells": [
    {
      "cell_type": "markdown",
      "metadata": {
        "id": "view-in-github",
        "colab_type": "text"
      },
      "source": [
        "<a href=\"https://colab.research.google.com/github/siting1206/RNN/blob/main/Simple_RNN.ipynb\" target=\"_parent\"><img src=\"https://colab.research.google.com/assets/colab-badge.svg\" alt=\"Open In Colab\"/></a>"
      ]
    },
    {
      "cell_type": "markdown",
      "source": [
        "# Simple RNN\n",
        "Training a simple RNN to do time-series prediction.\n",
        "Given some set of input data, it should be able to generate a prediction for the next time step.\n",
        "\n",
        "* First: Create data\n",
        "* Second: Define an RNN in PyTorch\n",
        "* Third: Train our network and see how it performs"
      ],
      "metadata": {
        "id": "1mvB2mIBKH6s"
      }
    },
    {
      "cell_type": "code",
      "execution_count": 1,
      "metadata": {
        "id": "S2dncqkq_ET9"
      },
      "outputs": [],
      "source": [
        "# Import resources\n",
        "import torch\n",
        "from torch import nn\n",
        "import numpy as np\n",
        "import matplotlib.pyplot as plt\n",
        "%matplotlib inline"
      ]
    },
    {
      "cell_type": "code",
      "source": [
        "# Create some simple input and target training data\n",
        "plt.figure(figsize=(8,5))\n",
        "\n",
        "# how many time steps/data pts are in one batch of data\n",
        "seq_length = 20\n",
        "\n",
        "# generate evenly spaced data pts\n",
        "time_steps = np.linspace(0, np.pi, seq_length + 1)\n",
        "data = np.sin(time_steps) # sin has enough variance and shape, and also very predictable\n",
        "data.resize((seq_length + 1, 1)) # size becomes (seq_length+1, 1), adds an input_size dimension\n",
        "\n",
        "x = data[:-1] # all but the last piece of data\n",
        "y = data[1:] # all but the first\n",
        "\n",
        "# display the data\n",
        "plt.plot(time_steps[1:], x, 'r.', label='input, x') # x\n",
        "plt.plot(time_steps[1:], y, 'b.', label='target, y') # y\n",
        "\n",
        "plt.legend(loc='best')\n",
        "plt.show()"
      ],
      "metadata": {
        "colab": {
          "base_uri": "https://localhost:8080/",
          "height": 320
        },
        "id": "jPPCAlq7LN2s",
        "outputId": "d01263b9-4ec8-4861-9627-b863332885e2"
      },
      "execution_count": 2,
      "outputs": [
        {
          "output_type": "display_data",
          "data": {
            "text/plain": [
              "<Figure size 576x360 with 1 Axes>"
            ],
            "image/png": "[encoded data removed]"
          },
          "metadata": {
            "needs_background": "light"
          }
        }
      ]
    },
    {
      "cell_type": "markdown",
      "source": [
        "## Define the RNN\n",
        "We'll use nn.RNN to create an RNN layer, then we'll add a last, fully-connected layer to get the output size that we want.\n",
        "\n",
        "An RNN takes in a number of parameters:\n",
        "\n",
        "* **input_size** - the size of the input\n",
        "* **hidden_dim** - the number of features in the RNN output and in the hidden state\n",
        "* **n_layers** - the number of layers that make up the RNN, typically 1-3; greater than 1 means that you'll create a stacked RNN\n",
        "* **batch_first** - whether or not the input/output of the RNN will have the batch_size as the first dimension(batch_size, seq_length, hidden_dim)\n",
        "\n",
        "[more about RNN](https://pytorch.org/docs/stable/generated/torch.nn.RNN.html)"
      ],
      "metadata": {
        "id": "jtmCbOnZRWPt"
      }
    },
    {
      "cell_type": "code",
      "source": [
        "class RNN(nn.Module):\n",
        "  def __init__(self, input_size, output_size, hidden_dim, n_layers):\n",
        "    super(RNN, self).__init__()\n",
        "\n",
        "    self.hidden_dim = hidden_dim # will use it in our forward function\n",
        "\n",
        "    # define an RNN with specified parameters\n",
        "    # batch_first means that the first dim of the input and output will be the batch_size\n",
        "    self.rnn = nn.RNN(input_size, hidden_dim, n_layers, batch_first=True)\n",
        "\n",
        "    # last, fully-connected layer\n",
        "    self.fc = nn.Linear(hidden_dim, output_size)\n",
        "\n",
        "  def forward(self, x, hidden):\n",
        "    # x(batch_size, seq_length, input_size)\n",
        "    # hidden(n_layers, batch_size, hidden_dim)\n",
        "    # r_out(batch_size, time_step, hidden_size)\n",
        "    batch_size = x.size(0)\n",
        "\n",
        "    # get RNN outputs\n",
        "    r_out, hidden = self.rnn(x, hidden)\n",
        "    # shape output to be (batch_size*seq_length, hidden_dim)\n",
        "    r_out = r_out.view(-1, self.hidden_dim)\n",
        "\n",
        "    # get final output\n",
        "    output = self.fc(r_out)\n",
        "\n",
        "    return output, hidden"
      ],
      "metadata": {
        "id": "7t5D4tCQSs2s"
      },
      "execution_count": 3,
      "outputs": []
    },
    {
      "cell_type": "markdown",
      "source": [
        "### Check the input and ourput dimensions\n",
        "As a check that the model is working as expected, test out how it responds to input data."
      ],
      "metadata": {
        "id": "XMvw6ItYXpYx"
      }
    },
    {
      "cell_type": "code",
      "source": [
        "# test that dimensions are as expected\n",
        "test_rnn = RNN(input_size=1, output_size=1, hidden_dim=10, n_layers=2)\n",
        "\n",
        "# generate evenly spaced, test data pts\n",
        "time_steps = np.linspace(0, np.pi, seq_length)\n",
        "data = np.sin(time_steps)\n",
        "data.resize((seq_length, 1))\n",
        "\n",
        "test_input = torch.Tensor(data).unsqueeze(0) # give it a batch_size of 1 as first dimension\n",
        "print('Input size', test_input.size())\n",
        "\n",
        "# test out run sizes\n",
        "test_out, test_h = test_rnn(test_input, None)\n",
        "print('Output size: ', test_out.size())\n",
        "print('Hidden state size: ', test_h.size())\n"
      ],
      "metadata": {
        "colab": {
          "base_uri": "https://localhost:8080/"
        },
        "id": "nIcyuuCCX59a",
        "outputId": "857936a3-7aff-46bc-cb5b-5c6ff98e48de"
      },
      "execution_count": 4,
      "outputs": [
        {
          "output_type": "stream",
          "name": "stdout",
          "text": [
            "Input size torch.Size([1, 20, 1])\n",
            "Output size:  torch.Size([20, 1])\n",
            "Hidden state size:  torch.Size([2, 1, 10])\n"
          ]
        }
      ]
    },
    {
      "cell_type": "markdown",
      "source": [
        "## Training the RNN"
      ],
      "metadata": {
        "id": "nSKCukXZbKkX"
      }
    },
    {
      "cell_type": "code",
      "source": [
        "# decide on hyperparameters\n",
        "input_size = 1\n",
        "output_size = 1\n",
        "hidden_dim = 32\n",
        "n_layers = 1\n",
        "\n",
        "# instantiate an RNN\n",
        "rnn = RNN(input_size, output_size, hidden_dim, n_layers)\n",
        "print(rnn)"
      ],
      "metadata": {
        "colab": {
          "base_uri": "https://localhost:8080/"
        },
        "id": "mFFQWrkubQbj",
        "outputId": "0fbdcbe8-f691-463a-b621-9ead4279d13d"
      },
      "execution_count": 5,
      "outputs": [
        {
          "output_type": "stream",
          "name": "stdout",
          "text": [
            "RNN(\n",
            "  (rnn): RNN(1, 32, batch_first=True)\n",
            "  (fc): Linear(in_features=32, out_features=1, bias=True)\n",
            ")\n"
          ]
        }
      ]
    },
    {
      "cell_type": "markdown",
      "source": [
        "### Loss and Optimization"
      ],
      "metadata": {
        "id": "BNm0g_FebtV1"
      }
    },
    {
      "cell_type": "code",
      "source": [
        "# MSE loss and Adam optimizer with a learning rate of 0.01\n",
        "criterion = nn.MSELoss()\n",
        "optimizer = torch.optim.Adam(rnn.parameters(), lr=0.01)"
      ],
      "metadata": {
        "id": "aHMdDJAKb5i3"
      },
      "execution_count": 6,
      "outputs": []
    },
    {
      "cell_type": "code",
      "source": [
        "# train the RNN\n",
        "def train(rnn, n_steps, print_every):\n",
        "  # initialize the hidden state\n",
        "  hidden = None\n",
        "\n",
        "  for batch_i, step in enumerate(range(n_steps)):\n",
        "    # defining the training data\n",
        "    time_steps = np.linspace(step * np.pi, (step+1)*np.pi, seq_length + 1)\n",
        "    data = np.sin(time_steps)\n",
        "    data.resize((seq_length + 1, 1)) # input_size=1\n",
        "\n",
        "    x = data[:-1]\n",
        "    y = data[1:]\n",
        "\n",
        "    # convert data into Tensors\n",
        "    x_tensor = torch.Tensor(x).unsqueeze(0) # unsqueeze gives a 1, batch_size dimension\n",
        "    y_tensor = torch.Tensor(y)\n",
        "\n",
        "    # output from the ann\n",
        "    prediction, hidden = rnn(x_tensor, hidden)\n",
        "\n",
        "    ## Representing Memory ##\n",
        "    # make a new variable for hidden and detach the hidden state from its history\n",
        "    # this way, we don't backpropagate through the entire history\n",
        "    hidden = hidden.data\n",
        "\n",
        "    # calculate the loss\n",
        "    loss = criterion(prediction, y_tensor)\n",
        "    # zero gradients\n",
        "    optimizer.zero_grad()\n",
        "    # perform backprop and update weights\n",
        "    loss.backward()\n",
        "    optimizer.step()\n",
        "\n",
        "    # display loss and predictions\n",
        "    if batch_i%print_every == 0:\n",
        "      print('Loss: ', loss.item())\n",
        "      plt.plot(time_steps[1:], x, 'r.') # input\n",
        "      plt.plot(time_steps[1:], prediction.data.numpy().flatten(), 'b.') # predictions\n",
        "      plt.show()\n",
        "  return rnn"
      ],
      "metadata": {
        "id": "nQrId1ZtfQh_"
      },
      "execution_count": 7,
      "outputs": []
    },
    {
      "cell_type": "code",
      "source": [
        "# train the rnn and monitor results\n",
        "n_steps = 150\n",
        "print_every = 15\n",
        "trained_rnn = train(rnn, n_steps, print_every)"
      ],
      "metadata": {
        "colab": {
          "base_uri": "https://localhost:8080/",
          "height": 1000
        },
        "id": "BJZNsvPvQOJe",
        "outputId": "ee616a00-ab36-4277-dd44-d883033d6029"
      },
      "execution_count": 9,
      "outputs": [
        {
          "output_type": "stream",
          "name": "stdout",
          "text": [
            "Loss:  0.018406391143798828\n"
          ]
        },
        {
          "output_type": "display_data",
          "data": {
            "text/plain": [
              "<Figure size 432x288 with 1 Axes>"
            ],
            "image/png": "[encoded data removed]"
          },
          "metadata": {
            "needs_background": "light"
          }
        },
        {
          "output_type": "stream",
          "name": "stdout",
          "text": [
            "Loss:  0.00035976385697722435\n"
          ]
        },
        {
          "output_type": "display_data",
          "data": {
            "text/plain": [
              "<Figure size 432x288 with 1 Axes>"
            ],
            "image/png": "[encoded data removed]"
          },
          "metadata": {
            "needs_background": "light"
          }
        },
        {
          "output_type": "stream",
          "name": "stdout",
          "text": [
            "Loss:  0.00032685400219634175\n"
          ]
        },
        {
          "output_type": "display_data",
          "data": {
            "text/plain": [
              "<Figure size 432x288 with 1 Axes>"
            ],
            "image/png": "[encoded data removed]"
          },
          "metadata": {
            "needs_background": "light"
          }
        },
        {
          "output_type": "stream",
          "name": "stdout",
          "text": [
            "Loss:  0.0001842682686401531\n"
          ]
        },
        {
          "output_type": "display_data",
          "data": {
            "text/plain": [
              "<Figure size 432x288 with 1 Axes>"
            ],
            "image/png": "[encoded data removed]"
          },
          "metadata": {
            "needs_background": "light"
          }
        },
        {
          "output_type": "stream",
          "name": "stdout",
          "text": [
            "Loss:  0.0003050319501198828\n"
          ]
        },
        {
          "output_type": "display_data",
          "data": {
            "text/plain": [
              "<Figure size 432x288 with 1 Axes>"
            ],
            "image/png": "[encoded data removed]"
          },
          "metadata": {
            "needs_background": "light"
          }
        },
        {
          "output_type": "stream",
          "name": "stdout",
          "text": [
            "Loss:  0.00014023757830727845\n"
          ]
        },
        {
          "output_type": "display_data",
          "data": {
            "text/plain": [
              "<Figure size 432x288 with 1 Axes>"
            ],
            "image/png": "[encoded data removed]"
          },
          "metadata": {
            "needs_background": "light"
          }
        },
        {
          "output_type": "stream",
          "name": "stdout",
          "text": [
            "Loss:  0.00021106144413352013\n"
          ]
        },
        {
          "output_type": "display_data",
          "data": {
            "text/plain": [
              "<Figure size 432x288 with 1 Axes>"
            ],
            "image/png": "[encoded data removed]"
          },
          "metadata": {
            "needs_background": "light"
          }
        },
        {
          "output_type": "stream",
          "name": "stdout",
          "text": [
            "Loss:  9.548426896799356e-05\n"
          ]
        },
        {
          "output_type": "display_data",
          "data": {
            "text/plain": [
              "<Figure size 432x288 with 1 Axes>"
            ],
            "image/png": "[encoded data removed]"
          },
          "metadata": {
            "needs_background": "light"
          }
        },
        {
          "output_type": "stream",
          "name": "stdout",
          "text": [
            "Loss:  3.2494881452294067e-05\n"
          ]
        },
        {
          "output_type": "display_data",
          "data": {
            "text/plain": [
              "<Figure size 432x288 with 1 Axes>"
            ],
            "image/png": "[encoded data removed]"
          },
          "metadata": {
            "needs_background": "light"
          }
        },
        {
          "output_type": "stream",
          "name": "stdout",
          "text": [
            "Loss:  1.7384252714691684e-05\n"
          ]
        },
        {
          "output_type": "display_data",
          "data": {
            "text/plain": [
              "<Figure size 432x288 with 1 Axes>"
            ],
            "image/png": "[encoded data removed]"
          },
          "metadata": {
            "needs_background": "light"
          }
        }
      ]
    }
  ]
}